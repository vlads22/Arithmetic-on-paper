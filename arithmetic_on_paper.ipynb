{
 "cells": [
  {
   "cell_type": "code",
   "execution_count": 2,
   "metadata": {},
   "outputs": [],
   "source": [
    "import pandas as pd\n",
    "import re"
   ]
  },
  {
   "cell_type": "code",
   "execution_count": 12,
   "metadata": {},
   "outputs": [],
   "source": [
    "def arithmetic_on_paper(numbers, results_option=False):\n",
    "    line1 = []\n",
    "    line2 = []\n",
    "    line2_2 = []\n",
    "    line3 = []\n",
    "    dashed_line = \"-\"\n",
    "    line_result = []\n",
    "    result = 0\n",
    "    \n",
    "    all_lines = []\n",
    "    length_difference = 0\n",
    "    operator = 0\n",
    "    t1 = 0\n",
    "    t2 = 0\n",
    "    column_spacer = '  '\n",
    "    if len(numbers) > 5:\n",
    "        return(\"Error: Too many problems.\")\n",
    "        \n",
    "    for x in numbers:\n",
    "        x = x.split(' ')\n",
    "        t1 = x[0]\n",
    "        t2 = x[2]\n",
    "        dashed_line = \"-\"   \n",
    "        operator = x[1]     \n",
    "        length_difference = len(t1) - len(t2)\n",
    "        if length_difference > 0:\n",
    "            operator = operator.ljust(length_difference+1)\n",
    "            \n",
    "            dashed_line = dashed_line[0] * (len(t1)+2)\n",
    "        else:\n",
    "            \n",
    "            if length_difference == 0:\n",
    "                dashed_line = dashed_line[0] * (len(operator)+len(t2)+1)\n",
    "            elif length_difference < 0:\n",
    "                dashed_line = dashed_line[0] * (len(operator)+len(t2)+1)\n",
    "        line1.append(t1)\n",
    "        line1.append(column_spacer)\n",
    "        line2 = str(operator) + ' ' + str(t2)\n",
    "        line2_2.append(line2)\n",
    "        line2_2.append(column_spacer)\n",
    "        line3.append(dashed_line)\n",
    "        line3.append(column_spacer)  # dupa ultima coloana mai ai o coloana de spaces\n",
    "        if x[1] != '+' and x[1] != '-':\n",
    "            return(\"Error: Operator must be '+' or '-'.\")\n",
    "            \n",
    "        elif t1.isdigit() != True or t2.isdigit() != True:\n",
    "            return(\"Error: Numbers must only contain digits.\")\n",
    "            \n",
    "        elif len(t1)>4 or len(t2)>4:\n",
    "            return(\"Error: Numbers cannot be more than four digits.\")\n",
    "            \n",
    "        elif x[1] == '+':\n",
    "            result = int(t1) + int(t2)\n",
    "            line_result.append(str(result))\n",
    "            line_result.append(column_spacer)\n",
    "\n",
    "        elif x[1] == '-':\n",
    "            result = int(t1) - int(t2)\n",
    "            line_result.append(str(result))\n",
    "            line_result.append(column_spacer)\n",
    "\n",
    "\n",
    "    line1.pop()\n",
    "    line2_2.pop()\n",
    "    line3.pop()\n",
    "    line_result.pop()\n",
    "\n",
    "    all_lines.append(line1)\n",
    "    all_lines.append(line2_2)\n",
    "    all_lines.append(line3)\n",
    "    \n",
    "    if results_option:\n",
    "        all_lines.append(line_result)\n",
    "    \n",
    "    df = pd.DataFrame(all_lines)\n",
    "    #df_no_header = df.to_string(index=True, header=True)\n",
    "    df_no_header = df.to_string(index=False, header=False)\n",
    "    return(df_no_header)"
   ]
  },
  {
   "cell_type": "code",
   "execution_count": 13,
   "metadata": {},
   "outputs": [
    {
     "name": "stdout",
     "output_type": "stream",
     "text": [
      "  3801      123\n",
      "-    2    +  49\n",
      "------    -----\n",
      "  1         1\n",
      "+ 2    - 9380\n",
      "---    ------\n",
      "    3      3801      45      123\n",
      "+ 855    -    2    + 43    +  49\n",
      "-----    ------    ----    -----\n",
      "  11      3801      1      123         1\n",
      "+  4    - 2999    + 2    +  49    - 9380\n",
      "----    ------    ---    -----    ------\n",
      "Error: Too many problems.\n",
      "Error: Operator must be '+' or '-'.\n",
      "Error: Numbers cannot be more than four digits.\n",
      "Error: Numbers must only contain digits.\n",
      "    3      988\n",
      "+ 855    +  40\n",
      "-----    -----\n",
      "  858     1028\n",
      "   32         1      45      123      988\n",
      "- 698    - 3801    + 43    +  49    +  40\n",
      "-----    ------    ----    -----    -----\n",
      " -666     -3800      88      172     1028\n"
     ]
    }
   ],
   "source": [
    "print(arithmetic_on_paper(['3801 - 2', '123 + 49']))\n",
    "print(arithmetic_on_paper(['1 + 2', '1 - 9380']))\n",
    "print(arithmetic_on_paper(['3 + 855', '3801 - 2', '45 + 43', '123 + 49']))\n",
    "print(arithmetic_on_paper(['11 + 4', '3801 - 2999', '1 + 2', '123 + 49', '1 - 9380']))\n",
    "print(arithmetic_on_paper(['44 + 815', '909 - 2', '45 + 43', '123 + 49',\n",
    "          '888 + 40', '653 + 87']))\n",
    "print(arithmetic_on_paper(['3 / 855', '3801 - 2', '45 + 43', '123 + 49']))\n",
    "print(arithmetic_on_paper(['24 + 85215', '3801 - 2', '45 + 43', '123 + 49']))\n",
    "print(arithmetic_on_paper(['98 + 3g5', '3801 - 2', '45 + 43', '123 + 49']))\n",
    "print(arithmetic_on_paper(['3 + 855', '988 + 40'], True))\n",
    "print(arithmetic_on_paper(['32 - 698', '1 - 3801', '45 + 43', '123 + 49', '988 + 40'], True))"
   ]
  }
 ],
 "metadata": {
  "kernelspec": {
   "display_name": "Python 3.9.5 64-bit",
   "language": "python",
   "name": "python3"
  },
  "language_info": {
   "codemirror_mode": {
    "name": "ipython",
    "version": 3
   },
   "file_extension": ".py",
   "mimetype": "text/x-python",
   "name": "python",
   "nbconvert_exporter": "python",
   "pygments_lexer": "ipython3",
   "version": "3.9.5"
  },
  "orig_nbformat": 4,
  "vscode": {
   "interpreter": {
    "hash": "11938c6bc6919ae2720b4d5011047913343b08a43b18698fd82dedb0d4417594"
   }
  }
 },
 "nbformat": 4,
 "nbformat_minor": 2
}
